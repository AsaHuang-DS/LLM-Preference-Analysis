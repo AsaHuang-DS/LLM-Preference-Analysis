{
 "cells": [
  {
   "cell_type": "markdown",
   "id": "f937285c",
   "metadata": {},
   "source": [
    "# Test Notebook Setup"
   ]
  },
  {
   "cell_type": "markdown",
   "id": "cb60a2ec",
   "metadata": {},
   "source": [
    "# Setup and Imports"
   ]
  },
  {
   "cell_type": "code",
   "execution_count": 3,
   "id": "8ffe6ca3",
   "metadata": {},
   "outputs": [
    {
     "name": "stdout",
     "output_type": "stream",
     "text": [
      "Starting dataset download process...\n"
     ]
    }
   ],
   "source": [
    "import os\n",
    "import pandas as pd\n",
    "from datasets import load_dataset\n",
    "import zipfile\n",
    "\n",
    "print(\"Starting dataset download process...\")"
   ]
  },
  {
   "cell_type": "markdown",
   "id": "7e16b9a3",
   "metadata": {},
   "source": [
    "### Download Chatbot Arena Dataset"
   ]
  },
  {
   "cell_type": "code",
   "execution_count": 5,
   "id": "f8c164ea",
   "metadata": {},
   "outputs": [
    {
     "name": "stdout",
     "output_type": "stream",
     "text": [
      "Downloading Chatbot Arena dataset from Hugging Face...\n",
      "This may take 5-10 minutes depending on your internet speed...\n",
      "✓ Chatbot Arena dataset saved to ../data/raw/chatbot_arena.csv\n",
      "  Shape: (57477, 9)\n",
      "  Columns: ['id', 'model_a', 'model_b', 'prompt', 'response_a', 'response_b', 'winner_model_a', 'winner_model_b', 'winner_tie']\n"
     ]
    }
   ],
   "source": [
    "# Download from Hugging Face\n",
    "print(\"Downloading Chatbot Arena dataset from Hugging Face...\")\n",
    "print(\"This may take 5-10 minutes depending on your internet speed...\")\n",
    "\n",
    "df = pd.read_csv(\"hf://datasets/lmarena-ai/arena-human-preference-55k/train.csv\")\n",
    "\n",
    "# Convert to DataFrame\n",
    "df_arena = pd.DataFrame(df)\n",
    "\n",
    "# Save to our raw data folder\n",
    "output_path = '../data/raw/chatbot_arena.csv'\n",
    "df_arena.to_csv(output_path, index=False)\n",
    "\n",
    "print(f\"✓ Chatbot Arena dataset saved to {output_path}\")\n",
    "print(f\"  Shape: {df_arena.shape}\")\n",
    "print(f\"  Columns: {list(df_arena.columns)}\")"
   ]
  },
  {
   "cell_type": "markdown",
   "id": "ef9cc7e5",
   "metadata": {},
   "source": [
    "### Download Kaggle Dataset"
   ]
  },
  {
   "cell_type": "code",
   "execution_count": 6,
   "id": "77983f7c",
   "metadata": {},
   "outputs": [
    {
     "name": "stdout",
     "output_type": "stream",
     "text": [
      "Downloading Kaggle LLM comparison dataset...\n",
      "Dataset URL: https://www.kaggle.com/datasets/samayashar/large-language-models-comparison-dataset\n",
      "License(s): CC0-1.0\n",
      "Downloading large-language-models-comparison-dataset.zip to ../data/raw\n",
      "\n",
      "Extracting zip file...\n",
      "✓ Dataset extracted\n",
      "✓ Zip file removed\n"
     ]
    },
    {
     "name": "stderr",
     "output_type": "stream",
     "text": [
      "100%|██████████| 5.76k/5.76k [00:00<00:00, 11.7MB/s]\n"
     ]
    }
   ],
   "source": [
    "# Download from Kaggle\n",
    "print(\"Downloading Kaggle LLM comparison dataset...\")\n",
    "\n",
    "# Download using Kaggle API\n",
    "os.system('kaggle datasets download -d samayashar/large-language-models-comparison-dataset -p ../data/raw/')\n",
    "\n",
    "# Find and unzip the file\n",
    "zip_path = '../data/raw/large-language-models-comparison-dataset.zip'\n",
    "\n",
    "if os.path.exists(zip_path):\n",
    "    print(\"Extracting zip file...\")\n",
    "    with zipfile.ZipFile(zip_path, 'r') as zip_ref:\n",
    "        zip_ref.extractall('../data/raw/')\n",
    "    print(\"✓ Dataset extracted\")\n",
    "    \n",
    "    # Remove zip file to save space\n",
    "    os.remove(zip_path)\n",
    "    print(\"✓ Zip file removed\")\n",
    "else:\n",
    "    print(\"Warning: Zip file not found. Check if download completed.\")"
   ]
  },
  {
   "cell_type": "markdown",
   "id": "00df47f8",
   "metadata": {},
   "source": [
    "### Load and Inspect Kaggle Dataset"
   ]
  },
  {
   "cell_type": "code",
   "execution_count": 8,
   "id": "07ba4a25",
   "metadata": {},
   "outputs": [
    {
     "name": "stdout",
     "output_type": "stream",
     "text": [
      "CSV files found: ['llm_comparison_dataset.csv']\n",
      "\n",
      "✓ Kaggle dataset loaded: llm_comparison_dataset.csv\n",
      "  Shape: (200, 15)\n",
      "  Columns: ['Model', 'Provider', 'Context Window', 'Speed (tokens/sec)', 'Latency (sec)', 'Benchmark (MMLU)', 'Benchmark (Chatbot Arena)', 'Open-Source', 'Price / Million Tokens', 'Training Dataset Size', 'Compute Power', 'Energy Efficiency', 'Quality Rating', 'Speed Rating', 'Price Rating']\n"
     ]
    }
   ],
   "source": [
    "# Find CSV files in raw folder\n",
    "csv_files = [f for f in os.listdir('../data/raw/') if f.endswith('.csv') and 'chatbot' not in f]\n",
    "print(f\"CSV files found: {csv_files}\")\n",
    "\n",
    "# Load the Kaggle dataset (adjust filename as needed)\n",
    "if csv_files:\n",
    "    kaggle_file = csv_files[0]\n",
    "    df_kaggle = pd.read_csv(f'../data/raw/{kaggle_file}')\n",
    "    \n",
    "    print(f\"\\n✓ Kaggle dataset loaded: {kaggle_file}\")\n",
    "    print(f\"  Shape: {df_kaggle.shape}\")\n",
    "    print(f\"  Columns: {list(df_kaggle.columns)}\")"
   ]
  },
  {
   "cell_type": "markdown",
   "id": "6a929ae2",
   "metadata": {},
   "source": []
  }
 ],
 "metadata": {
  "kernelspec": {
   "display_name": "llm_analysis",
   "language": "python",
   "name": "python3"
  },
  "language_info": {
   "codemirror_mode": {
    "name": "ipython",
    "version": 3
   },
   "file_extension": ".py",
   "mimetype": "text/x-python",
   "name": "python",
   "nbconvert_exporter": "python",
   "pygments_lexer": "ipython3",
   "version": "3.10.18"
  }
 },
 "nbformat": 4,
 "nbformat_minor": 5
}
